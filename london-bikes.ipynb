{
 "cells": [
  {
   "cell_type": "code",
   "execution_count": 1,
   "id": "c957b0e0",
   "metadata": {
    "_cell_guid": "b1076dfc-b9ad-4769-8c92-a6c4dae69d19",
    "_uuid": "8f2839f25d086af736a60e9eeb907d3b93b6e0e5",
    "execution": {
     "iopub.execute_input": "2023-08-12T06:41:51.003093Z",
     "iopub.status.busy": "2023-08-12T06:41:51.002730Z",
     "iopub.status.idle": "2023-08-12T06:41:51.019173Z",
     "shell.execute_reply": "2023-08-12T06:41:51.017828Z"
    },
    "papermill": {
     "duration": 0.02436,
     "end_time": "2023-08-12T06:41:51.021424",
     "exception": false,
     "start_time": "2023-08-12T06:41:50.997064",
     "status": "completed"
    },
    "tags": []
   },
   "outputs": [
    {
     "name": "stdout",
     "output_type": "stream",
     "text": [
      "/kaggle/input/london-bike-sharing-dataset/london_merged.csv\n"
     ]
    }
   ],
   "source": [
    "# This Python 3 environment comes with many helpful analytics libraries installed\n",
    "# It is defined by the kaggle/python Docker image: https://github.com/kaggle/docker-python\n",
    "# For example, here's several helpful packages to load\n",
    "\n",
    "import numpy as np # linear algebra\n",
    "import pandas as pd # data processing, CSV file I/O (e.g. pd.read_csv)\n",
    "\n",
    "# Input data files are available in the read-only \"../input/\" directory\n",
    "# For example, running this (by clicking run or pressing Shift+Enter) will list all files under the input directory\n",
    "\n",
    "import os\n",
    "for dirname, _, filenames in os.walk('/kaggle/input'):\n",
    "    for filename in filenames:\n",
    "        print(os.path.join(dirname, filename))\n",
    "\n",
    "# You can write up to 20GB to the current directory (/kaggle/working/) that gets preserved as output when you create a version using \"Save & Run All\" \n",
    "# You can also write temporary files to /kaggle/temp/, but they won't be saved outside of the current session"
   ]
  },
  {
   "cell_type": "code",
   "execution_count": 2,
   "id": "4a1c5e29",
   "metadata": {
    "execution": {
     "iopub.execute_input": "2023-08-12T06:41:51.030115Z",
     "iopub.status.busy": "2023-08-12T06:41:51.029804Z",
     "iopub.status.idle": "2023-08-12T06:41:51.077431Z",
     "shell.execute_reply": "2023-08-12T06:41:51.076174Z"
    },
    "papermill": {
     "duration": 0.054832,
     "end_time": "2023-08-12T06:41:51.080184",
     "exception": false,
     "start_time": "2023-08-12T06:41:51.025352",
     "status": "completed"
    },
    "tags": []
   },
   "outputs": [],
   "source": [
    "# read the csv file as a pandas dataframe\n",
    "\n",
    "bikes = pd.read_csv('/kaggle/input/london-bike-sharing-dataset/london_merged.csv')"
   ]
  },
  {
   "cell_type": "code",
   "execution_count": 3,
   "id": "67109d71",
   "metadata": {
    "execution": {
     "iopub.execute_input": "2023-08-12T06:41:51.089504Z",
     "iopub.status.busy": "2023-08-12T06:41:51.088904Z",
     "iopub.status.idle": "2023-08-12T06:41:51.122683Z",
     "shell.execute_reply": "2023-08-12T06:41:51.121790Z"
    },
    "papermill": {
     "duration": 0.040924,
     "end_time": "2023-08-12T06:41:51.124906",
     "exception": false,
     "start_time": "2023-08-12T06:41:51.083982",
     "status": "completed"
    },
    "tags": []
   },
   "outputs": [
    {
     "name": "stdout",
     "output_type": "stream",
     "text": [
      "<class 'pandas.core.frame.DataFrame'>\n",
      "RangeIndex: 17414 entries, 0 to 17413\n",
      "Data columns (total 10 columns):\n",
      " #   Column        Non-Null Count  Dtype  \n",
      "---  ------        --------------  -----  \n",
      " 0   timestamp     17414 non-null  object \n",
      " 1   cnt           17414 non-null  int64  \n",
      " 2   t1            17414 non-null  float64\n",
      " 3   t2            17414 non-null  float64\n",
      " 4   hum           17414 non-null  float64\n",
      " 5   wind_speed    17414 non-null  float64\n",
      " 6   weather_code  17414 non-null  float64\n",
      " 7   is_holiday    17414 non-null  float64\n",
      " 8   is_weekend    17414 non-null  float64\n",
      " 9   season        17414 non-null  float64\n",
      "dtypes: float64(8), int64(1), object(1)\n",
      "memory usage: 1.3+ MB\n"
     ]
    }
   ],
   "source": [
    "# Explore the data\n",
    "bikes.info()"
   ]
  },
  {
   "cell_type": "code",
   "execution_count": 4,
   "id": "17258f8d",
   "metadata": {
    "execution": {
     "iopub.execute_input": "2023-08-12T06:41:51.134805Z",
     "iopub.status.busy": "2023-08-12T06:41:51.134439Z",
     "iopub.status.idle": "2023-08-12T06:41:51.140820Z",
     "shell.execute_reply": "2023-08-12T06:41:51.139962Z"
    },
    "papermill": {
     "duration": 0.013731,
     "end_time": "2023-08-12T06:41:51.142772",
     "exception": false,
     "start_time": "2023-08-12T06:41:51.129041",
     "status": "completed"
    },
    "tags": []
   },
   "outputs": [
    {
     "data": {
      "text/plain": [
       "(17414, 10)"
      ]
     },
     "execution_count": 4,
     "metadata": {},
     "output_type": "execute_result"
    }
   ],
   "source": [
    "bikes.shape"
   ]
  },
  {
   "cell_type": "code",
   "execution_count": 5,
   "id": "0614bd00",
   "metadata": {
    "execution": {
     "iopub.execute_input": "2023-08-12T06:41:51.152051Z",
     "iopub.status.busy": "2023-08-12T06:41:51.151374Z",
     "iopub.status.idle": "2023-08-12T06:41:51.180318Z",
     "shell.execute_reply": "2023-08-12T06:41:51.179445Z"
    },
    "papermill": {
     "duration": 0.035753,
     "end_time": "2023-08-12T06:41:51.182288",
     "exception": false,
     "start_time": "2023-08-12T06:41:51.146535",
     "status": "completed"
    },
    "tags": []
   },
   "outputs": [
    {
     "data": {
      "text/html": [
       "<div>\n",
       "<style scoped>\n",
       "    .dataframe tbody tr th:only-of-type {\n",
       "        vertical-align: middle;\n",
       "    }\n",
       "\n",
       "    .dataframe tbody tr th {\n",
       "        vertical-align: top;\n",
       "    }\n",
       "\n",
       "    .dataframe thead th {\n",
       "        text-align: right;\n",
       "    }\n",
       "</style>\n",
       "<table border=\"1\" class=\"dataframe\">\n",
       "  <thead>\n",
       "    <tr style=\"text-align: right;\">\n",
       "      <th></th>\n",
       "      <th>timestamp</th>\n",
       "      <th>cnt</th>\n",
       "      <th>t1</th>\n",
       "      <th>t2</th>\n",
       "      <th>hum</th>\n",
       "      <th>wind_speed</th>\n",
       "      <th>weather_code</th>\n",
       "      <th>is_holiday</th>\n",
       "      <th>is_weekend</th>\n",
       "      <th>season</th>\n",
       "    </tr>\n",
       "  </thead>\n",
       "  <tbody>\n",
       "    <tr>\n",
       "      <th>0</th>\n",
       "      <td>2015-01-04 00:00:00</td>\n",
       "      <td>182</td>\n",
       "      <td>3.0</td>\n",
       "      <td>2.0</td>\n",
       "      <td>93.0</td>\n",
       "      <td>6.0</td>\n",
       "      <td>3.0</td>\n",
       "      <td>0.0</td>\n",
       "      <td>1.0</td>\n",
       "      <td>3.0</td>\n",
       "    </tr>\n",
       "    <tr>\n",
       "      <th>1</th>\n",
       "      <td>2015-01-04 01:00:00</td>\n",
       "      <td>138</td>\n",
       "      <td>3.0</td>\n",
       "      <td>2.5</td>\n",
       "      <td>93.0</td>\n",
       "      <td>5.0</td>\n",
       "      <td>1.0</td>\n",
       "      <td>0.0</td>\n",
       "      <td>1.0</td>\n",
       "      <td>3.0</td>\n",
       "    </tr>\n",
       "    <tr>\n",
       "      <th>2</th>\n",
       "      <td>2015-01-04 02:00:00</td>\n",
       "      <td>134</td>\n",
       "      <td>2.5</td>\n",
       "      <td>2.5</td>\n",
       "      <td>96.5</td>\n",
       "      <td>0.0</td>\n",
       "      <td>1.0</td>\n",
       "      <td>0.0</td>\n",
       "      <td>1.0</td>\n",
       "      <td>3.0</td>\n",
       "    </tr>\n",
       "    <tr>\n",
       "      <th>3</th>\n",
       "      <td>2015-01-04 03:00:00</td>\n",
       "      <td>72</td>\n",
       "      <td>2.0</td>\n",
       "      <td>2.0</td>\n",
       "      <td>100.0</td>\n",
       "      <td>0.0</td>\n",
       "      <td>1.0</td>\n",
       "      <td>0.0</td>\n",
       "      <td>1.0</td>\n",
       "      <td>3.0</td>\n",
       "    </tr>\n",
       "    <tr>\n",
       "      <th>4</th>\n",
       "      <td>2015-01-04 04:00:00</td>\n",
       "      <td>47</td>\n",
       "      <td>2.0</td>\n",
       "      <td>0.0</td>\n",
       "      <td>93.0</td>\n",
       "      <td>6.5</td>\n",
       "      <td>1.0</td>\n",
       "      <td>0.0</td>\n",
       "      <td>1.0</td>\n",
       "      <td>3.0</td>\n",
       "    </tr>\n",
       "    <tr>\n",
       "      <th>...</th>\n",
       "      <td>...</td>\n",
       "      <td>...</td>\n",
       "      <td>...</td>\n",
       "      <td>...</td>\n",
       "      <td>...</td>\n",
       "      <td>...</td>\n",
       "      <td>...</td>\n",
       "      <td>...</td>\n",
       "      <td>...</td>\n",
       "      <td>...</td>\n",
       "    </tr>\n",
       "    <tr>\n",
       "      <th>17409</th>\n",
       "      <td>2017-01-03 19:00:00</td>\n",
       "      <td>1042</td>\n",
       "      <td>5.0</td>\n",
       "      <td>1.0</td>\n",
       "      <td>81.0</td>\n",
       "      <td>19.0</td>\n",
       "      <td>3.0</td>\n",
       "      <td>0.0</td>\n",
       "      <td>0.0</td>\n",
       "      <td>3.0</td>\n",
       "    </tr>\n",
       "    <tr>\n",
       "      <th>17410</th>\n",
       "      <td>2017-01-03 20:00:00</td>\n",
       "      <td>541</td>\n",
       "      <td>5.0</td>\n",
       "      <td>1.0</td>\n",
       "      <td>81.0</td>\n",
       "      <td>21.0</td>\n",
       "      <td>4.0</td>\n",
       "      <td>0.0</td>\n",
       "      <td>0.0</td>\n",
       "      <td>3.0</td>\n",
       "    </tr>\n",
       "    <tr>\n",
       "      <th>17411</th>\n",
       "      <td>2017-01-03 21:00:00</td>\n",
       "      <td>337</td>\n",
       "      <td>5.5</td>\n",
       "      <td>1.5</td>\n",
       "      <td>78.5</td>\n",
       "      <td>24.0</td>\n",
       "      <td>4.0</td>\n",
       "      <td>0.0</td>\n",
       "      <td>0.0</td>\n",
       "      <td>3.0</td>\n",
       "    </tr>\n",
       "    <tr>\n",
       "      <th>17412</th>\n",
       "      <td>2017-01-03 22:00:00</td>\n",
       "      <td>224</td>\n",
       "      <td>5.5</td>\n",
       "      <td>1.5</td>\n",
       "      <td>76.0</td>\n",
       "      <td>23.0</td>\n",
       "      <td>4.0</td>\n",
       "      <td>0.0</td>\n",
       "      <td>0.0</td>\n",
       "      <td>3.0</td>\n",
       "    </tr>\n",
       "    <tr>\n",
       "      <th>17413</th>\n",
       "      <td>2017-01-03 23:00:00</td>\n",
       "      <td>139</td>\n",
       "      <td>5.0</td>\n",
       "      <td>1.0</td>\n",
       "      <td>76.0</td>\n",
       "      <td>22.0</td>\n",
       "      <td>2.0</td>\n",
       "      <td>0.0</td>\n",
       "      <td>0.0</td>\n",
       "      <td>3.0</td>\n",
       "    </tr>\n",
       "  </tbody>\n",
       "</table>\n",
       "<p>17414 rows × 10 columns</p>\n",
       "</div>"
      ],
      "text/plain": [
       "                 timestamp   cnt   t1   t2    hum  wind_speed  weather_code  \\\n",
       "0      2015-01-04 00:00:00   182  3.0  2.0   93.0         6.0           3.0   \n",
       "1      2015-01-04 01:00:00   138  3.0  2.5   93.0         5.0           1.0   \n",
       "2      2015-01-04 02:00:00   134  2.5  2.5   96.5         0.0           1.0   \n",
       "3      2015-01-04 03:00:00    72  2.0  2.0  100.0         0.0           1.0   \n",
       "4      2015-01-04 04:00:00    47  2.0  0.0   93.0         6.5           1.0   \n",
       "...                    ...   ...  ...  ...    ...         ...           ...   \n",
       "17409  2017-01-03 19:00:00  1042  5.0  1.0   81.0        19.0           3.0   \n",
       "17410  2017-01-03 20:00:00   541  5.0  1.0   81.0        21.0           4.0   \n",
       "17411  2017-01-03 21:00:00   337  5.5  1.5   78.5        24.0           4.0   \n",
       "17412  2017-01-03 22:00:00   224  5.5  1.5   76.0        23.0           4.0   \n",
       "17413  2017-01-03 23:00:00   139  5.0  1.0   76.0        22.0           2.0   \n",
       "\n",
       "       is_holiday  is_weekend  season  \n",
       "0             0.0         1.0     3.0  \n",
       "1             0.0         1.0     3.0  \n",
       "2             0.0         1.0     3.0  \n",
       "3             0.0         1.0     3.0  \n",
       "4             0.0         1.0     3.0  \n",
       "...           ...         ...     ...  \n",
       "17409         0.0         0.0     3.0  \n",
       "17410         0.0         0.0     3.0  \n",
       "17411         0.0         0.0     3.0  \n",
       "17412         0.0         0.0     3.0  \n",
       "17413         0.0         0.0     3.0  \n",
       "\n",
       "[17414 rows x 10 columns]"
      ]
     },
     "execution_count": 5,
     "metadata": {},
     "output_type": "execute_result"
    }
   ],
   "source": [
    "bikes"
   ]
  },
  {
   "cell_type": "code",
   "execution_count": 6,
   "id": "cc976eb4",
   "metadata": {
    "execution": {
     "iopub.execute_input": "2023-08-12T06:41:51.192727Z",
     "iopub.status.busy": "2023-08-12T06:41:51.191196Z",
     "iopub.status.idle": "2023-08-12T06:41:51.201501Z",
     "shell.execute_reply": "2023-08-12T06:41:51.200404Z"
    },
    "papermill": {
     "duration": 0.017171,
     "end_time": "2023-08-12T06:41:51.203410",
     "exception": false,
     "start_time": "2023-08-12T06:41:51.186239",
     "status": "completed"
    },
    "tags": []
   },
   "outputs": [
    {
     "data": {
      "text/plain": [
       "1.0     6150\n",
       "2.0     4034\n",
       "3.0     3551\n",
       "7.0     2141\n",
       "4.0     1464\n",
       "26.0      60\n",
       "10.0      14\n",
       "Name: weather_code, dtype: int64"
      ]
     },
     "execution_count": 6,
     "metadata": {},
     "output_type": "execute_result"
    }
   ],
   "source": [
    "# Count the unique values in the weather_code column\n",
    "\n",
    "bikes.weather_code.value_counts()"
   ]
  },
  {
   "cell_type": "code",
   "execution_count": 7,
   "id": "386fb265",
   "metadata": {
    "execution": {
     "iopub.execute_input": "2023-08-12T06:41:51.213740Z",
     "iopub.status.busy": "2023-08-12T06:41:51.212786Z",
     "iopub.status.idle": "2023-08-12T06:41:51.221825Z",
     "shell.execute_reply": "2023-08-12T06:41:51.220293Z"
    },
    "papermill": {
     "duration": 0.016447,
     "end_time": "2023-08-12T06:41:51.224027",
     "exception": false,
     "start_time": "2023-08-12T06:41:51.207580",
     "status": "completed"
    },
    "tags": []
   },
   "outputs": [
    {
     "data": {
      "text/plain": [
       "0.0    4394\n",
       "1.0    4387\n",
       "3.0    4330\n",
       "2.0    4303\n",
       "Name: season, dtype: int64"
      ]
     },
     "execution_count": 7,
     "metadata": {},
     "output_type": "execute_result"
    }
   ],
   "source": [
    "# Count the unique values in the season column\n",
    "\n",
    "bikes.season.value_counts()"
   ]
  },
  {
   "cell_type": "code",
   "execution_count": 8,
   "id": "777a5311",
   "metadata": {
    "execution": {
     "iopub.execute_input": "2023-08-12T06:41:51.234345Z",
     "iopub.status.busy": "2023-08-12T06:41:51.234009Z",
     "iopub.status.idle": "2023-08-12T06:41:51.240648Z",
     "shell.execute_reply": "2023-08-12T06:41:51.239146Z"
    },
    "papermill": {
     "duration": 0.014718,
     "end_time": "2023-08-12T06:41:51.243185",
     "exception": false,
     "start_time": "2023-08-12T06:41:51.228467",
     "status": "completed"
    },
    "tags": []
   },
   "outputs": [],
   "source": [
    "# Specifying the column names i want to use\n",
    "new_col_dict = {'timestamp' : 'time',\n",
    "                'cnt' : 'count',\n",
    "                't1':'temp_real_C',\n",
    "                't2':'temp_feels_like_C',\n",
    "                'hum':'humidity_percent',\n",
    "                'wind_speed': 'wind_speed_kph',\n",
    "                'weather_code':'weather',\n",
    "                'is_holiday':'is_holiday',\n",
    "                'is_weekend':'is_weekend',\n",
    "                'season':'season'\n",
    "               }\n",
    "\n",
    "# Renaming the columns to specific column names\n",
    "bikes.rename(new_col_dict,axis = 1,inplace = True)"
   ]
  },
  {
   "cell_type": "code",
   "execution_count": 9,
   "id": "21375bd6",
   "metadata": {
    "execution": {
     "iopub.execute_input": "2023-08-12T06:41:51.253784Z",
     "iopub.status.busy": "2023-08-12T06:41:51.253372Z",
     "iopub.status.idle": "2023-08-12T06:41:51.261114Z",
     "shell.execute_reply": "2023-08-12T06:41:51.259184Z"
    },
    "papermill": {
     "duration": 0.016255,
     "end_time": "2023-08-12T06:41:51.263830",
     "exception": false,
     "start_time": "2023-08-12T06:41:51.247575",
     "status": "completed"
    },
    "tags": []
   },
   "outputs": [],
   "source": [
    "# changing the humidity values to percentage (i.e. value between 0 and 1)\n",
    "bikes.humidity_percent = bikes.humidity_percent/100"
   ]
  },
  {
   "cell_type": "code",
   "execution_count": 10,
   "id": "46a38997",
   "metadata": {
    "execution": {
     "iopub.execute_input": "2023-08-12T06:41:51.274463Z",
     "iopub.status.busy": "2023-08-12T06:41:51.273854Z",
     "iopub.status.idle": "2023-08-12T06:41:51.299485Z",
     "shell.execute_reply": "2023-08-12T06:41:51.298676Z"
    },
    "papermill": {
     "duration": 0.033626,
     "end_time": "2023-08-12T06:41:51.301948",
     "exception": false,
     "start_time": "2023-08-12T06:41:51.268322",
     "status": "completed"
    },
    "tags": []
   },
   "outputs": [],
   "source": [
    "# Creating a season dictionary so that we can map the integers 0-3 to the actual written values\n",
    "\n",
    "season_dict = {'0.0':'spring',\n",
    "              '1.0':'summer',\n",
    "              '2.0':'autumn',\n",
    "              '3.0':'winter'}\n",
    "\n",
    "# Creating a weather dictionary so that we can map the integers to the actual written values\n",
    "\n",
    "weather_dict = {'1.0':'Clear',\n",
    "               '2.0':'Scattered coluds',\n",
    "               '3.0':'Broken clouds',\n",
    "               '4.0':'Cloudy',\n",
    "               '7.0':'Rain',\n",
    "               '10.0':'Rain with thunderstorms',\n",
    "               '26.0':'Snowfall'}\n",
    "\n",
    "# Changing the season column data type to string\n",
    "bikes.season = bikes.season.astype('str')\n",
    "\n",
    "# Mapping the values 0-3 to the actual written seasons\n",
    "bikes.season = bikes.season.map(season_dict)\n",
    "\n",
    "# Changing the weather column data type to string\n",
    "bikes.weather = bikes.weather.astype('str')\n",
    "\n",
    "# Mapping the values to the actual written weathers\n",
    "bikes.weather = bikes.weather.map(weather_dict)"
   ]
  },
  {
   "cell_type": "code",
   "execution_count": 11,
   "id": "69eaa9db",
   "metadata": {
    "execution": {
     "iopub.execute_input": "2023-08-12T06:41:51.313695Z",
     "iopub.status.busy": "2023-08-12T06:41:51.313312Z",
     "iopub.status.idle": "2023-08-12T06:41:51.330856Z",
     "shell.execute_reply": "2023-08-12T06:41:51.328952Z"
    },
    "papermill": {
     "duration": 0.027312,
     "end_time": "2023-08-12T06:41:51.333757",
     "exception": false,
     "start_time": "2023-08-12T06:41:51.306445",
     "status": "completed"
    },
    "tags": []
   },
   "outputs": [
    {
     "data": {
      "text/html": [
       "<div>\n",
       "<style scoped>\n",
       "    .dataframe tbody tr th:only-of-type {\n",
       "        vertical-align: middle;\n",
       "    }\n",
       "\n",
       "    .dataframe tbody tr th {\n",
       "        vertical-align: top;\n",
       "    }\n",
       "\n",
       "    .dataframe thead th {\n",
       "        text-align: right;\n",
       "    }\n",
       "</style>\n",
       "<table border=\"1\" class=\"dataframe\">\n",
       "  <thead>\n",
       "    <tr style=\"text-align: right;\">\n",
       "      <th></th>\n",
       "      <th>time</th>\n",
       "      <th>count</th>\n",
       "      <th>temp_real_C</th>\n",
       "      <th>temp_feels_like_C</th>\n",
       "      <th>humidity_percent</th>\n",
       "      <th>wind_speed_kph</th>\n",
       "      <th>weather</th>\n",
       "      <th>is_holiday</th>\n",
       "      <th>is_weekend</th>\n",
       "      <th>season</th>\n",
       "    </tr>\n",
       "  </thead>\n",
       "  <tbody>\n",
       "    <tr>\n",
       "      <th>0</th>\n",
       "      <td>2015-01-04 00:00:00</td>\n",
       "      <td>182</td>\n",
       "      <td>3.0</td>\n",
       "      <td>2.0</td>\n",
       "      <td>0.930</td>\n",
       "      <td>6.0</td>\n",
       "      <td>Broken clouds</td>\n",
       "      <td>0.0</td>\n",
       "      <td>1.0</td>\n",
       "      <td>winter</td>\n",
       "    </tr>\n",
       "    <tr>\n",
       "      <th>1</th>\n",
       "      <td>2015-01-04 01:00:00</td>\n",
       "      <td>138</td>\n",
       "      <td>3.0</td>\n",
       "      <td>2.5</td>\n",
       "      <td>0.930</td>\n",
       "      <td>5.0</td>\n",
       "      <td>Clear</td>\n",
       "      <td>0.0</td>\n",
       "      <td>1.0</td>\n",
       "      <td>winter</td>\n",
       "    </tr>\n",
       "    <tr>\n",
       "      <th>2</th>\n",
       "      <td>2015-01-04 02:00:00</td>\n",
       "      <td>134</td>\n",
       "      <td>2.5</td>\n",
       "      <td>2.5</td>\n",
       "      <td>0.965</td>\n",
       "      <td>0.0</td>\n",
       "      <td>Clear</td>\n",
       "      <td>0.0</td>\n",
       "      <td>1.0</td>\n",
       "      <td>winter</td>\n",
       "    </tr>\n",
       "    <tr>\n",
       "      <th>3</th>\n",
       "      <td>2015-01-04 03:00:00</td>\n",
       "      <td>72</td>\n",
       "      <td>2.0</td>\n",
       "      <td>2.0</td>\n",
       "      <td>1.000</td>\n",
       "      <td>0.0</td>\n",
       "      <td>Clear</td>\n",
       "      <td>0.0</td>\n",
       "      <td>1.0</td>\n",
       "      <td>winter</td>\n",
       "    </tr>\n",
       "    <tr>\n",
       "      <th>4</th>\n",
       "      <td>2015-01-04 04:00:00</td>\n",
       "      <td>47</td>\n",
       "      <td>2.0</td>\n",
       "      <td>0.0</td>\n",
       "      <td>0.930</td>\n",
       "      <td>6.5</td>\n",
       "      <td>Clear</td>\n",
       "      <td>0.0</td>\n",
       "      <td>1.0</td>\n",
       "      <td>winter</td>\n",
       "    </tr>\n",
       "  </tbody>\n",
       "</table>\n",
       "</div>"
      ],
      "text/plain": [
       "                  time  count  temp_real_C  temp_feels_like_C  \\\n",
       "0  2015-01-04 00:00:00    182          3.0                2.0   \n",
       "1  2015-01-04 01:00:00    138          3.0                2.5   \n",
       "2  2015-01-04 02:00:00    134          2.5                2.5   \n",
       "3  2015-01-04 03:00:00     72          2.0                2.0   \n",
       "4  2015-01-04 04:00:00     47          2.0                0.0   \n",
       "\n",
       "   humidity_percent  wind_speed_kph        weather  is_holiday  is_weekend  \\\n",
       "0             0.930             6.0  Broken clouds         0.0         1.0   \n",
       "1             0.930             5.0          Clear         0.0         1.0   \n",
       "2             0.965             0.0          Clear         0.0         1.0   \n",
       "3             1.000             0.0          Clear         0.0         1.0   \n",
       "4             0.930             6.5          Clear         0.0         1.0   \n",
       "\n",
       "   season  \n",
       "0  winter  \n",
       "1  winter  \n",
       "2  winter  \n",
       "3  winter  \n",
       "4  winter  "
      ]
     },
     "execution_count": 11,
     "metadata": {},
     "output_type": "execute_result"
    }
   ],
   "source": [
    "# Checking the dataframe to see if the mapping have worked\n",
    "bikes.head()"
   ]
  },
  {
   "cell_type": "code",
   "execution_count": 12,
   "id": "801a5c9a",
   "metadata": {
    "execution": {
     "iopub.execute_input": "2023-08-12T06:41:51.344826Z",
     "iopub.status.busy": "2023-08-12T06:41:51.344445Z",
     "iopub.status.idle": "2023-08-12T06:41:56.470554Z",
     "shell.execute_reply": "2023-08-12T06:41:56.468568Z"
    },
    "papermill": {
     "duration": 5.13456,
     "end_time": "2023-08-12T06:41:56.473068",
     "exception": false,
     "start_time": "2023-08-12T06:41:51.338508",
     "status": "completed"
    },
    "tags": []
   },
   "outputs": [],
   "source": [
    "# Writing the final dataframe yo an excel file that we will use in the tableau visualizations.\n",
    "bikes.to_excel('london_bikes_final.xlsx',sheet_name = 'Data')"
   ]
  },
  {
   "cell_type": "code",
   "execution_count": 13,
   "id": "273e07bd",
   "metadata": {
    "execution": {
     "iopub.execute_input": "2023-08-12T06:41:56.483827Z",
     "iopub.status.busy": "2023-08-12T06:41:56.483290Z",
     "iopub.status.idle": "2023-08-12T06:41:56.489352Z",
     "shell.execute_reply": "2023-08-12T06:41:56.488499Z"
    },
    "papermill": {
     "duration": 0.013423,
     "end_time": "2023-08-12T06:41:56.491020",
     "exception": false,
     "start_time": "2023-08-12T06:41:56.477597",
     "status": "completed"
    },
    "tags": []
   },
   "outputs": [
    {
     "data": {
      "text/html": [
       "<a href='london_bikes_final.xlsx' target='_blank'>london_bikes_final.xlsx</a><br>"
      ],
      "text/plain": [
       "/kaggle/working/london_bikes_final.xlsx"
      ]
     },
     "execution_count": 13,
     "metadata": {},
     "output_type": "execute_result"
    }
   ],
   "source": [
    "# Accesing the newmade Excel file.\n",
    "from IPython.display import FileLink\n",
    "FileLink(r'london_bikes_final.xlsx')"
   ]
  },
  {
   "cell_type": "code",
   "execution_count": 14,
   "id": "8a2309df",
   "metadata": {
    "execution": {
     "iopub.execute_input": "2023-08-12T06:41:56.501463Z",
     "iopub.status.busy": "2023-08-12T06:41:56.501125Z",
     "iopub.status.idle": "2023-08-12T06:41:56.507199Z",
     "shell.execute_reply": "2023-08-12T06:41:56.506217Z"
    },
    "papermill": {
     "duration": 0.013543,
     "end_time": "2023-08-12T06:41:56.509077",
     "exception": false,
     "start_time": "2023-08-12T06:41:56.495534",
     "status": "completed"
    },
    "tags": []
   },
   "outputs": [
    {
     "data": {
      "text/markdown": [
       "[Bike Rides Dashboard](https://public.tableau.com/views/bikeridesworking/Dashboard1?:language=en-GB&publish=yes&:display_count=n&:origin=viz_share_link)"
      ],
      "text/plain": [
       "<IPython.core.display.Markdown object>"
      ]
     },
     "metadata": {},
     "output_type": "display_data"
    }
   ],
   "source": [
    "# Tableau Dashboard \n",
    "\n",
    "from IPython.display import display, Markdown\n",
    "display(Markdown(\"[Bike Rides Dashboard](https://public.tableau.com/views/bikeridesworking/Dashboard1?:language=en-GB&publish=yes&:display_count=n&:origin=viz_share_link)\"))"
   ]
  }
 ],
 "metadata": {
  "kernelspec": {
   "display_name": "Python 3",
   "language": "python",
   "name": "python3"
  },
  "language_info": {
   "codemirror_mode": {
    "name": "ipython",
    "version": 3
   },
   "file_extension": ".py",
   "mimetype": "text/x-python",
   "name": "python",
   "nbconvert_exporter": "python",
   "pygments_lexer": "ipython3",
   "version": "3.10.12"
  },
  "papermill": {
   "default_parameters": {},
   "duration": 17.219552,
   "end_time": "2023-08-12T06:41:57.437339",
   "environment_variables": {},
   "exception": null,
   "input_path": "__notebook__.ipynb",
   "output_path": "__notebook__.ipynb",
   "parameters": {},
   "start_time": "2023-08-12T06:41:40.217787",
   "version": "2.4.0"
  }
 },
 "nbformat": 4,
 "nbformat_minor": 5
}
